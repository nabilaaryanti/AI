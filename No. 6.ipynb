{
 "cells": [
  {
   "cell_type": "markdown",
   "metadata": {},
   "source": [
    "6. Lakukan prediksi 10 data baru dibawah ini menggunakan model yang sudah anda peroleh (gunakan script model_prediction.py) :"
   ]
  },
  {
   "cell_type": "code",
   "execution_count": 4,
   "metadata": {},
   "outputs": [],
   "source": [
    "import os\n",
    "os.chdir('C:/Users/DEBBY ROBIYANTI/AI/NLP')"
   ]
  },
  {
   "cell_type": "code",
   "execution_count": 5,
   "metadata": {},
   "outputs": [],
   "source": [
    "from NLP_Models import deepHateSpeechDetection as dhsd\n",
    "\n",
    "# Keterangan = sebelumnya script model_prediction.py direname menjadi deepHateSpeechDetection.py"
   ]
  },
  {
   "cell_type": "code",
   "execution_count": 6,
   "metadata": {},
   "outputs": [
    {
     "data": {
      "text/plain": [
       "{'model_pred': {'hate': 58.43968953344817, 'nonhate': 41.56031046655183},\n",
       " 'final_result': 'hate',\n",
       " 'confidence': 58.44}"
      ]
     },
     "execution_count": 6,
     "metadata": {},
     "output_type": "execute_result"
    }
   ],
   "source": [
    "dhsd.hateSpeechPredict('Assalamualaikum')"
   ]
  },
  {
   "cell_type": "code",
   "execution_count": 3,
   "metadata": {},
   "outputs": [],
   "source": [
    "text =' Haha biang bangsat! Cebong lu!'"
   ]
  },
  {
   "cell_type": "code",
   "execution_count": 5,
   "metadata": {},
   "outputs": [
    {
     "data": {
      "text/plain": [
       "{'model_pred': {'hate': 99.99914941395835, 'nonhate': 0.0008505860416292362},\n",
       " 'final_result': 'hate',\n",
       " 'confidence': 99.999}"
      ]
     },
     "execution_count": 5,
     "metadata": {},
     "output_type": "execute_result"
    }
   ],
   "source": [
    "dhsd.hateSpeechPredict(text)"
   ]
  },
  {
   "cell_type": "code",
   "execution_count": 6,
   "metadata": {},
   "outputs": [],
   "source": [
    "# 1\n",
    "text ='Si bangsat cebong penyebar hoax ternyata anak banteng'"
   ]
  },
  {
   "cell_type": "code",
   "execution_count": 7,
   "metadata": {},
   "outputs": [
    {
     "data": {
      "text/plain": [
       "{'model_pred': {'hate': 99.99847859969366, 'nonhate': 0.0015214003063488538},\n",
       " 'final_result': 'hate',\n",
       " 'confidence': 99.998}"
      ]
     },
     "execution_count": 7,
     "metadata": {},
     "output_type": "execute_result"
    }
   ],
   "source": [
    "dhsd.hateSpeechPredict(text)"
   ]
  },
  {
   "cell_type": "code",
   "execution_count": 8,
   "metadata": {},
   "outputs": [],
   "source": [
    "# 2\n",
    "text ='Flu babi muncul di Cina, dan flu burung menyebar dr Cina ke dunia,\\\n",
    "sekarang virus korona telah muncul d Cina Masyarakat Cina adalah masyarakat\\\n",
    "yg korup secara mental. Kt harus menyelamatkan anak2 Tiongkok telah menjadi ancaman bagi kemanusiaan.#Corono'"
   ]
  },
  {
   "cell_type": "code",
   "execution_count": 9,
   "metadata": {},
   "outputs": [
    {
     "data": {
      "text/plain": [
       "{'model_pred': {'hate': 99.81610254287354, 'nonhate': 0.1838974571264673},\n",
       " 'final_result': 'hate',\n",
       " 'confidence': 99.816}"
      ]
     },
     "execution_count": 9,
     "metadata": {},
     "output_type": "execute_result"
    }
   ],
   "source": [
    "dhsd.hateSpeechPredict(text)"
   ]
  },
  {
   "cell_type": "code",
   "execution_count": 10,
   "metadata": {},
   "outputs": [],
   "source": [
    "# 3\n",
    "text ='Bangsat cina. I said what i said. Fuck you sepet.'"
   ]
  },
  {
   "cell_type": "code",
   "execution_count": 11,
   "metadata": {},
   "outputs": [
    {
     "data": {
      "text/plain": [
       "{'model_pred': {'hate': 97.59065442686479, 'nonhate': 2.409345573135215},\n",
       " 'final_result': 'hate',\n",
       " 'confidence': 97.591}"
      ]
     },
     "execution_count": 11,
     "metadata": {},
     "output_type": "execute_result"
    }
   ],
   "source": [
    "dhsd.hateSpeechPredict(text)"
   ]
  },
  {
   "cell_type": "code",
   "execution_count": 13,
   "metadata": {},
   "outputs": [],
   "source": [
    "# 4\n",
    "text ='Dasar komunis bangsat, cina bangsat, gara2 itu laga Arsenal vs city jg nngak di siarin di negerinya segitu bencinya sama Ozil yg mengucapkan rasa simpatinya..'"
   ]
  },
  {
   "cell_type": "code",
   "execution_count": 14,
   "metadata": {},
   "outputs": [
    {
     "data": {
      "text/plain": [
       "{'model_pred': {'hate': 99.05964741138675, 'nonhate': 0.9403525886132598},\n",
       " 'final_result': 'hate',\n",
       " 'confidence': 99.06}"
      ]
     },
     "execution_count": 14,
     "metadata": {},
     "output_type": "execute_result"
    }
   ],
   "source": [
    "dhsd.hateSpeechPredict(text)"
   ]
  },
  {
   "cell_type": "code",
   "execution_count": 19,
   "metadata": {},
   "outputs": [],
   "source": [
    "# 5\n",
    "text ='WOI blantik ASU jelasin sejarah Cina setau saya bangsat cina yang menggarong di Indonesia #JanganPercayaBoneka #JanganPercayaBoneka'"
   ]
  },
  {
   "cell_type": "code",
   "execution_count": 20,
   "metadata": {
    "scrolled": true
   },
   "outputs": [
    {
     "data": {
      "text/plain": [
       "{'model_pred': {'hate': 99.87564467836904, 'nonhate': 0.12435532163096247},\n",
       " 'final_result': 'hate',\n",
       " 'confidence': 99.876}"
      ]
     },
     "execution_count": 20,
     "metadata": {},
     "output_type": "execute_result"
    }
   ],
   "source": [
    "dhsd.hateSpeechPredict(text)"
   ]
  },
  {
   "cell_type": "code",
   "execution_count": 21,
   "metadata": {},
   "outputs": [],
   "source": [
    "# 6\n",
    "text ='D manakah bangsat cina yg mmpjuangkan hak sama rata ketika ini? Maaf bukan aku rasis tp ini juga knyataan...oh ya,bukit kepong jgn lupa'"
   ]
  },
  {
   "cell_type": "code",
   "execution_count": 22,
   "metadata": {
    "scrolled": true
   },
   "outputs": [
    {
     "data": {
      "text/plain": [
       "{'model_pred': {'hate': 94.01782691964496, 'nonhate': 5.982173080355038},\n",
       " 'final_result': 'hate',\n",
       " 'confidence': 94.018}"
      ]
     },
     "execution_count": 22,
     "metadata": {},
     "output_type": "execute_result"
    }
   ],
   "source": [
    "dhsd.hateSpeechPredict(text)"
   ]
  },
  {
   "cell_type": "code",
   "execution_count": 23,
   "metadata": {},
   "outputs": [],
   "source": [
    "# 7\n",
    "text ='Cita-cita kok meniduri 100 perempuan. Cita-cita tuh melindungi segenap bangsa Indonesia dan seluruh tumpah darah Indonesia, memajukan kesejahteraan umum, mencerdaskan kehidupan bangsa, dan ikut melaksanakan ketertiban dunia yang berdasarkan kemerdekaan'"
   ]
  },
  {
   "cell_type": "code",
   "execution_count": 24,
   "metadata": {
    "scrolled": true
   },
   "outputs": [
    {
     "data": {
      "text/plain": [
       "{'model_pred': {'hate': 76.61485517171708, 'nonhate': 23.385144828282925},\n",
       " 'final_result': 'hate',\n",
       " 'confidence': 76.615}"
      ]
     },
     "execution_count": 24,
     "metadata": {},
     "output_type": "execute_result"
    }
   ],
   "source": [
    "dhsd.hateSpeechPredict(text)"
   ]
  },
  {
   "cell_type": "code",
   "execution_count": 10,
   "metadata": {},
   "outputs": [],
   "source": [
    "# 8\n",
    "text ='Sejak proklamasi kemerdekaan, Pancasila ditetapkan sebagai ideologi bangsa Indonesia, sebagai pedoman hidup masyarakat Indonesia dalam ber.....https://facebook.com/103754998279685/posts/198032845518566/…'"
   ]
  },
  {
   "cell_type": "code",
   "execution_count": 9,
   "metadata": {
    "scrolled": true
   },
   "outputs": [
    {
     "data": {
      "text/plain": [
       "{'model_pred': {'hate': 98.3960835104448, 'nonhate': 1.603916489555201},\n",
       " 'final_result': 'hate',\n",
       " 'confidence': 98.396}"
      ]
     },
     "execution_count": 9,
     "metadata": {},
     "output_type": "execute_result"
    }
   ],
   "source": [
    "dhsd.hateSpeechPredict(text)"
   ]
  },
  {
   "cell_type": "code",
   "execution_count": 15,
   "metadata": {},
   "outputs": [],
   "source": [
    "# 9\n",
    "text ='SAYA PRIHATIN SEKALI GENERASI PENERUS BANGSA INDONESIA SEPERTI INI AKIBAT PEMBELAJARAN TATAP MUKA ON LINE YA DI BATASI MIN SEMINGGU 2X DAN HANYA 2 JAM'"
   ]
  },
  {
   "cell_type": "code",
   "execution_count": 16,
   "metadata": {
    "scrolled": true
   },
   "outputs": [
    {
     "data": {
      "text/plain": [
       "{'model_pred': {'hate': 46.343441392297805, 'nonhate': 53.65655860770219},\n",
       " 'final_result': 'nonhate',\n",
       " 'confidence': 53.657}"
      ]
     },
     "execution_count": 16,
     "metadata": {},
     "output_type": "execute_result"
    }
   ],
   "source": [
    "dhsd.hateSpeechPredict(text)"
   ]
  },
  {
   "cell_type": "markdown",
   "metadata": {},
   "source": [
    "### Kekurangan Model ini adalah:\n",
    "- Model ini memiliki keakuratan yang rendah dalam memprediksi jika hanya satu kosa kata yang di input, kata yang sebenarnya bukan hate speech di prediksi model sebagai hate speech. Kami menduga hal ini terjadi karna kurangnya kosa kata pada data non hate speech dan banyak tweet ujaran kebencian menggunakan kata sakras sehingga terdapat beberapa kata yang bukan ujaran kebencian pada model ini di identifikasi sebagai ujaran kebencian.\n",
    "- Pada tahap validasi data tweet, kelompok kami juga merasa belum cukup optimal sehingga masih terdapat tweet yang bukan berupa hatespeech belum terhapus pada data hate speech\n",
    "- Kosa kata dari data tweet yang kami peroleh untuk membuat model ini juga belum maksimal, sehingga model menjadi sering melakukan kesalahan presiksi."
   ]
  },
  {
   "cell_type": "markdown",
   "metadata": {},
   "source": [
    "### Kelebihan Model ini adalah:\n",
    "- Model ini cukup baik dalam memprediksi dengan benar kalimat yang panjang."
   ]
  },
  {
   "cell_type": "code",
   "execution_count": null,
   "metadata": {},
   "outputs": [],
   "source": []
  }
 ],
 "metadata": {
  "kernelspec": {
   "display_name": "Python 3",
   "language": "python",
   "name": "python3"
  },
  "language_info": {
   "codemirror_mode": {
    "name": "ipython",
    "version": 3
   },
   "file_extension": ".py",
   "mimetype": "text/x-python",
   "name": "python",
   "nbconvert_exporter": "python",
   "pygments_lexer": "ipython3",
   "version": "3.7.6"
  }
 },
 "nbformat": 4,
 "nbformat_minor": 4
}
