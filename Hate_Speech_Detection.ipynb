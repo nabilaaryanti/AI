{
  "nbformat": 4,
  "nbformat_minor": 0,
  "metadata": {
    "colab": {
      "name": "Hate Speech Detection.ipynb",
      "provenance": [],
      "authorship_tag": "ABX9TyMyzxT7Eeu2ErhOV9gcjdTi",
      "include_colab_link": true
    },
    "kernelspec": {
      "name": "python3",
      "display_name": "Python 3"
    },
    "language_info": {
      "name": "python"
    }
  },
  "cells": [
    {
      "cell_type": "markdown",
      "metadata": {
        "id": "view-in-github",
        "colab_type": "text"
      },
      "source": [
        "<a href=\"https://colab.research.google.com/github/nabilaaryanti/AI/blob/main/Hate_Speech_Detection.ipynb\" target=\"_parent\"><img src=\"https://colab.research.google.com/assets/colab-badge.svg\" alt=\"Open In Colab\"/></a>"
      ]
    },
    {
      "cell_type": "markdown",
      "metadata": {
        "id": "v1xYN3eikpjX"
      },
      "source": [
        "# **Import module** "
      ]
    },
    {
      "cell_type": "code",
      "metadata": {
        "id": "5KwsO4XOj_UX"
      },
      "source": [
        "import pandas as pd"
      ],
      "execution_count": 2,
      "outputs": []
    },
    {
      "cell_type": "markdown",
      "metadata": {
        "id": "oUN9rfSDk7HF"
      },
      "source": [
        "## **Data Hate Speech**"
      ]
    },
    {
      "cell_type": "code",
      "metadata": {
        "colab": {
          "base_uri": "https://localhost:8080/"
        },
        "id": "Svy2L_WRfDbM",
        "outputId": "bf58b1b7-b8c9-4763-876a-9e5ffa805e34"
      },
      "source": [
        "!mkdir main\n",
        "!wget -P main/ https://raw.githubusercontent.com/nabilaaryanti/AI/main/Hate_Speech.csv\n",
        "hate = pd.read_csv('main/Hate_Speech.csv')"
      ],
      "execution_count": 4,
      "outputs": [
        {
          "output_type": "stream",
          "text": [
            "mkdir: cannot create directory ‘main’: File exists\n",
            "--2021-06-08 07:41:15--  https://raw.githubusercontent.com/nabilaaryanti/AI/main/Hate_Speech.csv\n",
            "Resolving raw.githubusercontent.com (raw.githubusercontent.com)... 185.199.108.133, 185.199.109.133, 185.199.110.133, ...\n",
            "Connecting to raw.githubusercontent.com (raw.githubusercontent.com)|185.199.108.133|:443... connected.\n",
            "HTTP request sent, awaiting response... 200 OK\n",
            "Length: 5643918 (5.4M) [text/plain]\n",
            "Saving to: ‘main/Hate_Speech.csv.2’\n",
            "\n",
            "Hate_Speech.csv.2   100%[===================>]   5.38M  --.-KB/s    in 0.1s    \n",
            "\n",
            "2021-06-08 07:41:15 (45.7 MB/s) - ‘main/Hate_Speech.csv.2’ saved [5643918/5643918]\n",
            "\n"
          ],
          "name": "stdout"
        }
      ]
    },
    {
      "cell_type": "code",
      "metadata": {
        "colab": {
          "base_uri": "https://localhost:8080/",
          "height": 366
        },
        "id": "A06ymamvkEB7",
        "outputId": "002e4548-5b39-49e8-a47f-b83a7aa7c0cd"
      },
      "source": [
        "hate.head(3)"
      ],
      "execution_count": 5,
      "outputs": [
        {
          "output_type": "execute_result",
          "data": {
            "text/html": [
              "<div>\n",
              "<style scoped>\n",
              "    .dataframe tbody tr th:only-of-type {\n",
              "        vertical-align: middle;\n",
              "    }\n",
              "\n",
              "    .dataframe tbody tr th {\n",
              "        vertical-align: top;\n",
              "    }\n",
              "\n",
              "    .dataframe thead th {\n",
              "        text-align: right;\n",
              "    }\n",
              "</style>\n",
              "<table border=\"1\" class=\"dataframe\">\n",
              "  <thead>\n",
              "    <tr style=\"text-align: right;\">\n",
              "      <th></th>\n",
              "      <th>id</th>\n",
              "      <th>conversation_id</th>\n",
              "      <th>created_at</th>\n",
              "      <th>date</th>\n",
              "      <th>time</th>\n",
              "      <th>timezone</th>\n",
              "      <th>user_id</th>\n",
              "      <th>username</th>\n",
              "      <th>name</th>\n",
              "      <th>place</th>\n",
              "      <th>tweet</th>\n",
              "      <th>language</th>\n",
              "      <th>mentions</th>\n",
              "      <th>urls</th>\n",
              "      <th>photos</th>\n",
              "      <th>replies_count</th>\n",
              "      <th>retweets_count</th>\n",
              "      <th>likes_count</th>\n",
              "      <th>hashtags</th>\n",
              "      <th>cashtags</th>\n",
              "      <th>link</th>\n",
              "      <th>retweet</th>\n",
              "      <th>quote_url</th>\n",
              "      <th>video</th>\n",
              "      <th>thumbnail</th>\n",
              "      <th>near</th>\n",
              "      <th>geo</th>\n",
              "      <th>source</th>\n",
              "      <th>user_rt_id</th>\n",
              "      <th>user_rt</th>\n",
              "      <th>retweet_id</th>\n",
              "      <th>reply_to</th>\n",
              "      <th>retweet_date</th>\n",
              "      <th>translate</th>\n",
              "      <th>trans_src</th>\n",
              "      <th>trans_dest</th>\n",
              "    </tr>\n",
              "  </thead>\n",
              "  <tbody>\n",
              "    <tr>\n",
              "      <th>0</th>\n",
              "      <td>1,40067E+18</td>\n",
              "      <td>1,4005E+18</td>\n",
              "      <td>2021-06-04 11:23:52 SE Asia Standard Time</td>\n",
              "      <td>2021-06-04 00:00:00</td>\n",
              "      <td>11:23:52</td>\n",
              "      <td>700</td>\n",
              "      <td>9,80982E+17</td>\n",
              "      <td>dhejan_alfa13</td>\n",
              "      <td>dhejan alfa77</td>\n",
              "      <td>NaN</td>\n",
              "      <td>@Taufik06644475 @tijabar Nah ini tolol yg bole...</td>\n",
              "      <td>in</td>\n",
              "      <td>[]</td>\n",
              "      <td>[]</td>\n",
              "      <td>[]</td>\n",
              "      <td>0</td>\n",
              "      <td>0</td>\n",
              "      <td>0</td>\n",
              "      <td>[]</td>\n",
              "      <td>[]</td>\n",
              "      <td>https://twitter.com/Dhejan_Alfa13/status/14006...</td>\n",
              "      <td>False</td>\n",
              "      <td>NaN</td>\n",
              "      <td>0</td>\n",
              "      <td>NaN</td>\n",
              "      <td>NaN</td>\n",
              "      <td>NaN</td>\n",
              "      <td>NaN</td>\n",
              "      <td>NaN</td>\n",
              "      <td>NaN</td>\n",
              "      <td>NaN</td>\n",
              "      <td>[{'screen_name': 'Taufik06644475', 'name': 'Ta...</td>\n",
              "      <td>NaN</td>\n",
              "      <td>NaN</td>\n",
              "      <td>NaN</td>\n",
              "      <td>NaN</td>\n",
              "    </tr>\n",
              "    <tr>\n",
              "      <th>1</th>\n",
              "      <td>1,40064E+18</td>\n",
              "      <td>1,40064E+18</td>\n",
              "      <td>2021-06-04 09:24:21 SE Asia Standard Time</td>\n",
              "      <td>2021-06-04 00:00:00</td>\n",
              "      <td>09:24:21</td>\n",
              "      <td>700</td>\n",
              "      <td>1,29197E+18</td>\n",
              "      <td>ayah__hanita</td>\n",
              "      <td>🇲🇨Buzzer_NKRI✊🇲🇨❤️</td>\n",
              "      <td>NaN</td>\n",
              "      <td>Biar SETAN, KADRUN, Politikus Busuk &amp;amp; Peng...</td>\n",
              "      <td>in</td>\n",
              "      <td>[]</td>\n",
              "      <td>[]</td>\n",
              "      <td>['https://pbs.twimg.com/media/E3ASOpvVoAIE6UI....</td>\n",
              "      <td>24</td>\n",
              "      <td>4</td>\n",
              "      <td>110</td>\n",
              "      <td>[]</td>\n",
              "      <td>[]</td>\n",
              "      <td>https://twitter.com/Ayah__Hanita/status/140063...</td>\n",
              "      <td>False</td>\n",
              "      <td>NaN</td>\n",
              "      <td>1</td>\n",
              "      <td>https://pbs.twimg.com/media/E3ASOpvVoAIE6UI.jpg</td>\n",
              "      <td>NaN</td>\n",
              "      <td>NaN</td>\n",
              "      <td>NaN</td>\n",
              "      <td>NaN</td>\n",
              "      <td>NaN</td>\n",
              "      <td>NaN</td>\n",
              "      <td>[]</td>\n",
              "      <td>NaN</td>\n",
              "      <td>NaN</td>\n",
              "      <td>NaN</td>\n",
              "      <td>NaN</td>\n",
              "    </tr>\n",
              "    <tr>\n",
              "      <th>2</th>\n",
              "      <td>1,40063E+18</td>\n",
              "      <td>1,40046E+18</td>\n",
              "      <td>2021-06-04 08:53:53 SE Asia Standard Time</td>\n",
              "      <td>2021-06-04 00:00:00</td>\n",
              "      <td>08:53:53</td>\n",
              "      <td>700</td>\n",
              "      <td>1,33418E+18</td>\n",
              "      <td>cyberkn__</td>\n",
              "      <td>Cyber KN16H7</td>\n",
              "      <td>NaN</td>\n",
              "      <td>@dahlia93362963 @Abu_Ar_Rayyan @SukurWong @Neg...</td>\n",
              "      <td>in</td>\n",
              "      <td>[]</td>\n",
              "      <td>[]</td>\n",
              "      <td>[]</td>\n",
              "      <td>1</td>\n",
              "      <td>0</td>\n",
              "      <td>0</td>\n",
              "      <td>[]</td>\n",
              "      <td>[]</td>\n",
              "      <td>https://twitter.com/Cyberkn__/status/140063186...</td>\n",
              "      <td>False</td>\n",
              "      <td>NaN</td>\n",
              "      <td>0</td>\n",
              "      <td>NaN</td>\n",
              "      <td>NaN</td>\n",
              "      <td>NaN</td>\n",
              "      <td>NaN</td>\n",
              "      <td>NaN</td>\n",
              "      <td>NaN</td>\n",
              "      <td>NaN</td>\n",
              "      <td>[{'screen_name': 'dahlia93362963', 'name': 'da...</td>\n",
              "      <td>NaN</td>\n",
              "      <td>NaN</td>\n",
              "      <td>NaN</td>\n",
              "      <td>NaN</td>\n",
              "    </tr>\n",
              "  </tbody>\n",
              "</table>\n",
              "</div>"
            ],
            "text/plain": [
              "            id conversation_id  ... trans_src trans_dest\n",
              "0  1,40067E+18      1,4005E+18  ...       NaN        NaN\n",
              "1  1,40064E+18     1,40064E+18  ...       NaN        NaN\n",
              "2  1,40063E+18     1,40046E+18  ...       NaN        NaN\n",
              "\n",
              "[3 rows x 36 columns]"
            ]
          },
          "metadata": {
            "tags": []
          },
          "execution_count": 5
        }
      ]
    },
    {
      "cell_type": "code",
      "metadata": {
        "colab": {
          "base_uri": "https://localhost:8080/"
        },
        "id": "WadoHIWGkao1",
        "outputId": "493532fd-49a5-4574-f1fa-5d78d50dbbbe"
      },
      "source": [
        "# Tipe Datanya : DataFrame (df)\n",
        "print(type(hate))\n",
        "# Ukuran Data\n",
        "N, P = hate.shape\n",
        "'baris =', N, ', Kolom =', P"
      ],
      "execution_count": 6,
      "outputs": [
        {
          "output_type": "stream",
          "text": [
            "<class 'pandas.core.frame.DataFrame'>\n"
          ],
          "name": "stdout"
        },
        {
          "output_type": "execute_result",
          "data": {
            "text/plain": [
              "('baris =', 8813, ', Kolom =', 36)"
            ]
          },
          "metadata": {
            "tags": []
          },
          "execution_count": 6
        }
      ]
    },
    {
      "cell_type": "code",
      "metadata": {
        "id": "peSvrz2dlegU"
      },
      "source": [
        "# Menghapus beberapa data\n",
        "# hate = hate.drop(beberapa label)"
      ],
      "execution_count": null,
      "outputs": []
    },
    {
      "cell_type": "markdown",
      "metadata": {
        "id": "OpclIWXAlhCf"
      },
      "source": [
        "##**Data Non Hate Speech**"
      ]
    },
    {
      "cell_type": "code",
      "metadata": {
        "colab": {
          "base_uri": "https://localhost:8080/"
        },
        "id": "lod7460clsVt",
        "outputId": "06c475db-337d-4c0a-ad43-bb67565e5c64"
      },
      "source": [
        "!mkdir main\n",
        "!wget -P main/ https://raw.githubusercontent.com/nabilaaryanti/AI/main/Non_Hate_Speech.csv\n",
        "non_hate = pd.read_csv('main/Non_Hate_Speech.csv')"
      ],
      "execution_count": 7,
      "outputs": [
        {
          "output_type": "stream",
          "text": [
            "mkdir: cannot create directory ‘main’: File exists\n",
            "--2021-06-08 07:47:40--  https://raw.githubusercontent.com/nabilaaryanti/AI/main/Non_Hate_Speech.csv\n",
            "Resolving raw.githubusercontent.com (raw.githubusercontent.com)... 185.199.108.133, 185.199.109.133, 185.199.111.133, ...\n",
            "Connecting to raw.githubusercontent.com (raw.githubusercontent.com)|185.199.108.133|:443... connected.\n",
            "HTTP request sent, awaiting response... 200 OK\n",
            "Length: 3537230 (3.4M) [text/plain]\n",
            "Saving to: ‘main/Non_Hate_Speech.csv’\n",
            "\n",
            "Non_Hate_Speech.csv 100%[===================>]   3.37M  --.-KB/s    in 0.1s    \n",
            "\n",
            "2021-06-08 07:47:41 (33.8 MB/s) - ‘main/Non_Hate_Speech.csv’ saved [3537230/3537230]\n",
            "\n"
          ],
          "name": "stdout"
        }
      ]
    },
    {
      "cell_type": "code",
      "metadata": {
        "colab": {
          "base_uri": "https://localhost:8080/",
          "height": 366
        },
        "id": "1UwOq2g8lk7M",
        "outputId": "720c5e34-8db2-4670-b670-1c86c62b8a31"
      },
      "source": [
        "non_hate.head(3)"
      ],
      "execution_count": 8,
      "outputs": [
        {
          "output_type": "execute_result",
          "data": {
            "text/html": [
              "<div>\n",
              "<style scoped>\n",
              "    .dataframe tbody tr th:only-of-type {\n",
              "        vertical-align: middle;\n",
              "    }\n",
              "\n",
              "    .dataframe tbody tr th {\n",
              "        vertical-align: top;\n",
              "    }\n",
              "\n",
              "    .dataframe thead th {\n",
              "        text-align: right;\n",
              "    }\n",
              "</style>\n",
              "<table border=\"1\" class=\"dataframe\">\n",
              "  <thead>\n",
              "    <tr style=\"text-align: right;\">\n",
              "      <th></th>\n",
              "      <th>id</th>\n",
              "      <th>conversation_id</th>\n",
              "      <th>created_at</th>\n",
              "      <th>date</th>\n",
              "      <th>time</th>\n",
              "      <th>timezone</th>\n",
              "      <th>user_id</th>\n",
              "      <th>username</th>\n",
              "      <th>name</th>\n",
              "      <th>place</th>\n",
              "      <th>tweet</th>\n",
              "      <th>language</th>\n",
              "      <th>mentions</th>\n",
              "      <th>urls</th>\n",
              "      <th>photos</th>\n",
              "      <th>replies_count</th>\n",
              "      <th>retweets_count</th>\n",
              "      <th>likes_count</th>\n",
              "      <th>hashtags</th>\n",
              "      <th>cashtags</th>\n",
              "      <th>link</th>\n",
              "      <th>retweet</th>\n",
              "      <th>quote_url</th>\n",
              "      <th>video</th>\n",
              "      <th>thumbnail</th>\n",
              "      <th>near</th>\n",
              "      <th>geo</th>\n",
              "      <th>source</th>\n",
              "      <th>user_rt_id</th>\n",
              "      <th>user_rt</th>\n",
              "      <th>retweet_id</th>\n",
              "      <th>reply_to</th>\n",
              "      <th>retweet_date</th>\n",
              "      <th>translate</th>\n",
              "      <th>trans_src</th>\n",
              "      <th>trans_dest</th>\n",
              "    </tr>\n",
              "  </thead>\n",
              "  <tbody>\n",
              "    <tr>\n",
              "      <th>0</th>\n",
              "      <td>1,40119E+18</td>\n",
              "      <td>1,40119E+18</td>\n",
              "      <td>2021-06-05 22:05:27 SE Asia Standard Time</td>\n",
              "      <td>2021-06-05 00:00:00</td>\n",
              "      <td>22:05:27</td>\n",
              "      <td>700</td>\n",
              "      <td>1,33185E+18</td>\n",
              "      <td>nuchano</td>\n",
              "      <td>nurul ✰</td>\n",
              "      <td>NaN</td>\n",
              "      <td>@aurumstay @schfess semangat yaa key!! 😆💗 semo...</td>\n",
              "      <td>in</td>\n",
              "      <td>[]</td>\n",
              "      <td>[]</td>\n",
              "      <td>['https://pbs.twimg.com/tweet_video_thumb/E3IK...</td>\n",
              "      <td>1</td>\n",
              "      <td>0</td>\n",
              "      <td>0</td>\n",
              "      <td>[]</td>\n",
              "      <td>[]</td>\n",
              "      <td>https://twitter.com/nuchano/status/14011934542...</td>\n",
              "      <td>False</td>\n",
              "      <td>NaN</td>\n",
              "      <td>1</td>\n",
              "      <td>https://pbs.twimg.com/tweet_video_thumb/E3IKA3...</td>\n",
              "      <td>NaN</td>\n",
              "      <td>NaN</td>\n",
              "      <td>NaN</td>\n",
              "      <td>NaN</td>\n",
              "      <td>NaN</td>\n",
              "      <td>NaN</td>\n",
              "      <td>[{'screen_name': 'aurumstay', 'name': 'Keiynni...</td>\n",
              "      <td>NaN</td>\n",
              "      <td>NaN</td>\n",
              "      <td>NaN</td>\n",
              "      <td>NaN</td>\n",
              "    </tr>\n",
              "    <tr>\n",
              "      <th>1</th>\n",
              "      <td>1,40118E+18</td>\n",
              "      <td>1,40118E+18</td>\n",
              "      <td>2021-06-05 21:29:34 SE Asia Standard Time</td>\n",
              "      <td>2021-06-05 00:00:00</td>\n",
              "      <td>21:29:34</td>\n",
              "      <td>700</td>\n",
              "      <td>1,26865E+18</td>\n",
              "      <td>c7hl94</td>\n",
              "      <td>njaa</td>\n",
              "      <td>NaN</td>\n",
              "      <td>apa yg buat gw kek gini, gw cerita walaupun it...</td>\n",
              "      <td>in</td>\n",
              "      <td>[]</td>\n",
              "      <td>[]</td>\n",
              "      <td>[]</td>\n",
              "      <td>1</td>\n",
              "      <td>0</td>\n",
              "      <td>0</td>\n",
              "      <td>[]</td>\n",
              "      <td>[]</td>\n",
              "      <td>https://twitter.com/C7HL94/status/140118442584...</td>\n",
              "      <td>False</td>\n",
              "      <td>NaN</td>\n",
              "      <td>0</td>\n",
              "      <td>NaN</td>\n",
              "      <td>NaN</td>\n",
              "      <td>NaN</td>\n",
              "      <td>NaN</td>\n",
              "      <td>NaN</td>\n",
              "      <td>NaN</td>\n",
              "      <td>NaN</td>\n",
              "      <td>[]</td>\n",
              "      <td>NaN</td>\n",
              "      <td>NaN</td>\n",
              "      <td>NaN</td>\n",
              "      <td>NaN</td>\n",
              "    </tr>\n",
              "    <tr>\n",
              "      <th>2</th>\n",
              "      <td>1,40117E+18</td>\n",
              "      <td>1,401E+18</td>\n",
              "      <td>2021-06-05 20:32:03 SE Asia Standard Time</td>\n",
              "      <td>2021-06-05 00:00:00</td>\n",
              "      <td>20:32:03</td>\n",
              "      <td>700</td>\n",
              "      <td>1,22365E+18</td>\n",
              "      <td>kysya041</td>\n",
              "      <td>Kaiko_chi04🍵🧁 - キレイサカ</td>\n",
              "      <td>NaN</td>\n",
              "      <td>@zahraaysha_ Huhuhu.. iya, aku cuma kurang mot...</td>\n",
              "      <td>in</td>\n",
              "      <td>[]</td>\n",
              "      <td>[]</td>\n",
              "      <td>[]</td>\n",
              "      <td>1</td>\n",
              "      <td>0</td>\n",
              "      <td>1</td>\n",
              "      <td>[]</td>\n",
              "      <td>[]</td>\n",
              "      <td>https://twitter.com/KySya041/status/1401169949...</td>\n",
              "      <td>False</td>\n",
              "      <td>NaN</td>\n",
              "      <td>0</td>\n",
              "      <td>NaN</td>\n",
              "      <td>NaN</td>\n",
              "      <td>NaN</td>\n",
              "      <td>NaN</td>\n",
              "      <td>NaN</td>\n",
              "      <td>NaN</td>\n",
              "      <td>NaN</td>\n",
              "      <td>[{'screen_name': 'zahraaysha_', 'name': 'Safin...</td>\n",
              "      <td>NaN</td>\n",
              "      <td>NaN</td>\n",
              "      <td>NaN</td>\n",
              "      <td>NaN</td>\n",
              "    </tr>\n",
              "  </tbody>\n",
              "</table>\n",
              "</div>"
            ],
            "text/plain": [
              "            id conversation_id  ... trans_src trans_dest\n",
              "0  1,40119E+18     1,40119E+18  ...       NaN        NaN\n",
              "1  1,40118E+18     1,40118E+18  ...       NaN        NaN\n",
              "2  1,40117E+18       1,401E+18  ...       NaN        NaN\n",
              "\n",
              "[3 rows x 36 columns]"
            ]
          },
          "metadata": {
            "tags": []
          },
          "execution_count": 8
        }
      ]
    },
    {
      "cell_type": "code",
      "metadata": {
        "colab": {
          "base_uri": "https://localhost:8080/"
        },
        "id": "_8Vw0rvRl7DW",
        "outputId": "a86f90bd-79d9-402f-9026-3f5d15110b71"
      },
      "source": [
        "# Tipe Datanya : DataFrame (df)\n",
        "print(type(non_hate))\n",
        "# Ukuran Data\n",
        "N, P = non_hate.shape\n",
        "'baris =', N, ', Kolom =', P"
      ],
      "execution_count": 10,
      "outputs": [
        {
          "output_type": "stream",
          "text": [
            "<class 'pandas.core.frame.DataFrame'>\n"
          ],
          "name": "stdout"
        },
        {
          "output_type": "execute_result",
          "data": {
            "text/plain": [
              "('baris =', 6700, ', Kolom =', 36)"
            ]
          },
          "metadata": {
            "tags": []
          },
          "execution_count": 10
        }
      ]
    },
    {
      "cell_type": "code",
      "metadata": {
        "id": "5Qh_3wbKmBSA"
      },
      "source": [
        "# Menghapus beberapa data\n",
        "# non_hate = non_hate.drop(beberapa label)"
      ],
      "execution_count": null,
      "outputs": []
    }
  ]
}