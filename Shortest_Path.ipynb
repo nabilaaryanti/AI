{
  "nbformat": 4,
  "nbformat_minor": 0,
  "metadata": {
    "colab": {
      "name": "Shortest Path",
      "provenance": [],
      "authorship_tag": "ABX9TyOfj9kW7d0Z7Wnhx1rpgVWo",
      "include_colab_link": true
    },
    "kernelspec": {
      "name": "python3",
      "display_name": "Python 3"
    },
    "language_info": {
      "name": "python"
    }
  },
  "cells": [
    {
      "cell_type": "markdown",
      "metadata": {
        "id": "view-in-github",
        "colab_type": "text"
      },
      "source": [
        "<a href=\"https://colab.research.google.com/github/nabilaaryanti/AI/blob/main/Shortest_Path.ipynb\" target=\"_parent\"><img src=\"https://colab.research.google.com/assets/colab-badge.svg\" alt=\"Open In Colab\"/></a>"
      ]
    },
    {
      "cell_type": "code",
      "execution_count": 1,
      "metadata": {
        "id": "2v0Dir1AEiXN"
      },
      "outputs": [],
      "source": [
        "import sys"
      ]
    },
    {
      "cell_type": "markdown",
      "source": [
        "### Dijkstra Algorithm"
      ],
      "metadata": {
        "id": "UWZHN_yCU1Eg"
      }
    },
    {
      "cell_type": "code",
      "source": [
        "class Dijkstra:\n",
        "\n",
        "    def __init__(self, vertices, graph):\n",
        "        self.vertices = vertices  # (\"A\", \"B\", \"C\" ...)\n",
        "        self.graph = graph  # {\"A\": {\"B\": 1}, \"B\": {\"A\": 3, \"C\": 5} ...}\n",
        "\n",
        "    def find_route(self, start, end):\n",
        "        unvisited = {n: float(\"inf\") for n in self.vertices}\n",
        "        unvisited[start] = 0  # set start vertex to 0\n",
        "        visited = {}  # list of all visited nodes\n",
        "        parents = {}  # predecessors\n",
        "        while unvisited:\n",
        "            min_vertex = min(unvisited, key=unvisited.get)  # get smallest distance\n",
        "            for neighbour, _ in self.graph.get(min_vertex, {}).items():\n",
        "                if neighbour in visited:\n",
        "                    continue\n",
        "                new_distance = unvisited[min_vertex] + self.graph[min_vertex].get(neighbour, float(\"inf\"))\n",
        "                if new_distance < unvisited[neighbour]:\n",
        "                    unvisited[neighbour] = new_distance\n",
        "                    parents[neighbour] = min_vertex\n",
        "            visited[min_vertex] = unvisited[min_vertex]\n",
        "            unvisited.pop(min_vertex)\n",
        "            if min_vertex == end:\n",
        "                break\n",
        "        return parents, visited\n",
        "\n",
        "    @staticmethod\n",
        "    def generate_path(parents, start, end):\n",
        "        path = [end]\n",
        "        while True:\n",
        "            key = parents[path[0]]\n",
        "            path.insert(0, key)\n",
        "            if key == start:\n",
        "                break\n",
        "        return path"
      ],
      "metadata": {
        "id": "A1tVrdorIgW7"
      },
      "execution_count": 9,
      "outputs": []
    },
    {
      "cell_type": "code",
      "source": [
        "input_vertices = (\"A\", \"B\", \"C\", \"D\", \"E\", \"F\", \"G\", \"H\", \"I\")\n",
        "input_graph = {\n",
        "    \"A\": {\"B\": 6, \"C\": 4},\n",
        "    \"B\": {\"A\": 6, \"H\": 8 },\n",
        "    \"C\": {\"A\": 4, \"E\": 7, \"D\": 6},\n",
        "    \"D\": {\"C\": 6, \"F\": 6, \"G\": 5},\n",
        "    \"E\": {\"C\": 7, \"I\": 12},\n",
        "    \"F\": {\"D\": 6, \"H\": 2},\n",
        "    \"G\": {\"D\": 5, \"I\": 7},\n",
        "    \"H\": {\"B\": 8, \"I\": 7},\n",
        "    \"I\": {\"H\": 7, \"G\": 7, \"E\":12}\n",
        "}\n",
        "start_vertex = \"A\"\n",
        "end_vertex= \"I\"\n",
        "dijkstra = Dijkstra(input_vertices, input_graph)\n",
        "p, v = dijkstra.find_route(start_vertex, end_vertex)\n",
        "print(\"Distance from %s to %s is: %.2f\" % (start_vertex, end_vertex, v[end_vertex]))\n",
        "se = dijkstra.generate_path(p, start_vertex, end_vertex)\n",
        "print(\"Path from %s to %s is: %s\" % (start_vertex, end_vertex, \" -> \".join(se)))"
      ],
      "metadata": {
        "colab": {
          "base_uri": "https://localhost:8080/"
        },
        "id": "cyMrtCnqIh6x",
        "outputId": "bd24f7ea-dd16-4d71-f60e-42472968cd56"
      },
      "execution_count": 12,
      "outputs": [
        {
          "output_type": "stream",
          "name": "stdout",
          "text": [
            "Distance from A to I is: 21.00\n",
            "Path from A to I is: A -> B -> H -> I\n"
          ]
        }
      ]
    },
    {
      "cell_type": "markdown",
      "source": [
        "### A* Algortithm"
      ],
      "metadata": {
        "id": "8lo_njheU6Po"
      }
    },
    {
      "cell_type": "code",
      "source": [
        "from collections import deque\n",
        " \n",
        "class Graph:\n",
        "    def __init__(self, adjac_lis):\n",
        "        self.adjac_lis = adjac_lis\n",
        " \n",
        "    def get_neighbors(self, v):\n",
        "        return self.adjac_lis[v]\n",
        " \n",
        "    # This is heuristic function which is having equal values for all nodes\n",
        "    def h(self, n):\n",
        "        H = {\n",
        "            'A': 1,\n",
        "            'B': 1,\n",
        "            'C': 1,\n",
        "            'D': 1,\n",
        "            'E': 1,\n",
        "            'F': 1,\n",
        "            'G': 1,\n",
        "            'H': 1,\n",
        "            'I': 1\n",
        "        }\n",
        " \n",
        "        return H[n]\n",
        " \n",
        "    def a_star_algorithm(self, start, stop):\n",
        "        # In this open_lst is a lisy of nodes which have been visited, but who's \n",
        "        # neighbours haven't all been always inspected, It starts off with the start \n",
        "  #node\n",
        "        # And closed_lst is a list of nodes which have been visited\n",
        "        # and who's neighbors have been always inspected\n",
        "        open_lst = set([start])\n",
        "        closed_lst = set([])\n",
        " \n",
        "        # poo has present distances from start to all other nodes\n",
        "        # the default value is +infinity\n",
        "        poo = {}\n",
        "        poo[start] = 0\n",
        " \n",
        "        # par contains an adjac mapping of all nodes\n",
        "        par = {}\n",
        "        par[start] = start\n",
        " \n",
        "        while len(open_lst) > 0:\n",
        "            n = None\n",
        " \n",
        "            # it will find a node with the lowest value of f() -\n",
        "            for v in open_lst:\n",
        "                if n == None or poo[v] + self.h(v) < poo[n] + self.h(n):\n",
        "                    n = v;\n",
        " \n",
        "            if n == None:\n",
        "                print('Path does not exist!')\n",
        "                return None\n",
        " \n",
        "            # if the current node is the stop\n",
        "            # then we start again from start\n",
        "            if n == stop:\n",
        "                reconst_path = []\n",
        " \n",
        "                while par[n] != n:\n",
        "                    reconst_path.append(n)\n",
        "                    n = par[n]\n",
        " \n",
        "                reconst_path.append(start)\n",
        " \n",
        "                reconst_path.reverse()\n",
        " \n",
        "                print('Path found: {}'.format(reconst_path))\n",
        "                return reconst_path\n",
        " \n",
        "            # for all the neighbors of the current node do\n",
        "            for (m, weight) in self.get_neighbors(n):\n",
        "              # if the current node is not presentin both open_lst and closed_lst\n",
        "                # add it to open_lst and note n as it's par\n",
        "                if m not in open_lst and m not in closed_lst:\n",
        "                    open_lst.add(m)\n",
        "                    par[m] = n\n",
        "                    poo[m] = poo[n] + weight\n",
        " \n",
        "                # otherwise, check if it's quicker to first visit n, then m\n",
        "                # and if it is, update par data and poo data\n",
        "                # and if the node was in the closed_lst, move it to open_lst\n",
        "                else:\n",
        "                    if poo[m] > poo[n] + weight:\n",
        "                        poo[m] = poo[n] + weight\n",
        "                        par[m] = n\n",
        " \n",
        "                        if m in closed_lst:\n",
        "                            closed_lst.remove(m)\n",
        "                            open_lst.add(m)\n",
        " \n",
        "            # remove n from the open_lst, and add it to closed_lst\n",
        "            # because all of his neighbors were inspected\n",
        "            open_lst.remove(n)\n",
        "            closed_lst.add(n)\n",
        " \n",
        "        print('Path does not exist!')\n",
        "        return None"
      ],
      "metadata": {
        "id": "2de2wEuAU82D"
      },
      "execution_count": 17,
      "outputs": []
    },
    {
      "cell_type": "code",
      "source": [
        "adjac_lis = {\n",
        "    'A': [('B', 6), ('C', 4)],\n",
        "    'B': [('H', 8)],\n",
        "    'C': [('D', 6), ('E', 7)],\n",
        "    'D': [('F', 6), ('G', 5)],\n",
        "    'E': [('I', 12)],\n",
        "    'F': [('H', 2)],\n",
        "    'G': [('I', 7)],\n",
        "    'H': [('I', 7)]\n",
        "}\n",
        "graph1 = Graph(adjac_lis)\n",
        "graph1.a_star_algorithm('A', 'I')"
      ],
      "metadata": {
        "colab": {
          "base_uri": "https://localhost:8080/"
        },
        "id": "mEqsFtmGVLdn",
        "outputId": "1b88fd40-38a3-4ff2-8007-9b6483990dd2"
      },
      "execution_count": 18,
      "outputs": [
        {
          "output_type": "stream",
          "name": "stdout",
          "text": [
            "Path found: ['A', 'B', 'H', 'I']\n"
          ]
        },
        {
          "output_type": "execute_result",
          "data": {
            "text/plain": [
              "['A', 'B', 'H', 'I']"
            ]
          },
          "metadata": {},
          "execution_count": 18
        }
      ]
    },
    {
      "cell_type": "markdown",
      "source": [
        "### Floyd Warshall ALgorithm"
      ],
      "metadata": {
        "id": "y2srw6XDU9ez"
      }
    },
    {
      "cell_type": "code",
      "source": [
        ""
      ],
      "metadata": {
        "id": "Uhj2-jv8VBNR"
      },
      "execution_count": null,
      "outputs": []
    }
  ]
}