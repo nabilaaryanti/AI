{
 "cells": [
  {
   "cell_type": "markdown",
   "metadata": {},
   "source": [
    "## EDA"
   ]
  },
  {
   "cell_type": "code",
   "execution_count": 1,
   "metadata": {},
   "outputs": [],
   "source": [
    "# Importing Some Python Modules\n",
    "import warnings; warnings.simplefilter('ignore')\n",
    "import scipy, itertools, pandas as pd, matplotlib.pyplot as plt, seaborn as sns, numpy as np\n",
    "from scipy import stats\n",
    "from sklearn.preprocessing import StandardScaler, MinMaxScaler\n",
    "import warnings; warnings.simplefilter('ignore')\n",
    "import matplotlib.cm as cm\n",
    "from collections import Counter\n",
    "plt.style.use('bmh'); sns.set()"
   ]
  },
  {
   "cell_type": "markdown",
   "metadata": {},
   "source": [
    "## Data Hate Speech"
   ]
  },
  {
   "cell_type": "code",
   "execution_count": 43,
   "metadata": {},
   "outputs": [],
   "source": [
    "data = pd.read_json('./NLP_Models/data/dataHateClean.json')"
   ]
  },
  {
   "cell_type": "code",
   "execution_count": 5,
   "metadata": {},
   "outputs": [
    {
     "data": {
      "text/html": [
       "<div>\n",
       "<style scoped>\n",
       "    .dataframe tbody tr th:only-of-type {\n",
       "        vertical-align: middle;\n",
       "    }\n",
       "\n",
       "    .dataframe tbody tr th {\n",
       "        vertical-align: top;\n",
       "    }\n",
       "\n",
       "    .dataframe thead th {\n",
       "        text-align: right;\n",
       "    }\n",
       "</style>\n",
       "<table border=\"1\" class=\"dataframe\">\n",
       "  <thead>\n",
       "    <tr style=\"text-align: right;\">\n",
       "      <th></th>\n",
       "      <th>created_at</th>\n",
       "      <th>date</th>\n",
       "      <th>time</th>\n",
       "      <th>user_id</th>\n",
       "      <th>username</th>\n",
       "      <th>name</th>\n",
       "      <th>text</th>\n",
       "      <th>mentions</th>\n",
       "      <th>urls</th>\n",
       "      <th>photos</th>\n",
       "      <th>...</th>\n",
       "      <th>near</th>\n",
       "      <th>geo</th>\n",
       "      <th>source</th>\n",
       "      <th>user_rt_id</th>\n",
       "      <th>user_rt</th>\n",
       "      <th>retweet_id</th>\n",
       "      <th>reply_to</th>\n",
       "      <th>retweet_date</th>\n",
       "      <th>Label</th>\n",
       "      <th>cleaned_text</th>\n",
       "    </tr>\n",
       "  </thead>\n",
       "  <tbody>\n",
       "    <tr>\n",
       "      <th>0</th>\n",
       "      <td>2021-06-04 11:23:52 SE Asia Standard Time</td>\n",
       "      <td>2021-06-04</td>\n",
       "      <td>11:23:52</td>\n",
       "      <td>980982152786427904</td>\n",
       "      <td>dhejan_alfa13</td>\n",
       "      <td>dhejan alfa77</td>\n",
       "      <td>@taufik06644475 @tijabar nah ini tolol yg bole...</td>\n",
       "      <td>[]</td>\n",
       "      <td>[]</td>\n",
       "      <td>[]</td>\n",
       "      <td>...</td>\n",
       "      <td></td>\n",
       "      <td></td>\n",
       "      <td></td>\n",
       "      <td></td>\n",
       "      <td></td>\n",
       "      <td></td>\n",
       "      <td>[{'screen_name': 'Taufik06644475', 'name': 'Ta...</td>\n",
       "      <td></td>\n",
       "      <td>-1</td>\n",
       "      <td>tolol berangkat haji negara negara mayoritas n...</td>\n",
       "    </tr>\n",
       "    <tr>\n",
       "      <th>1</th>\n",
       "      <td>2021-06-04 09:24:21 SE Asia Standard Time</td>\n",
       "      <td>2021-06-04</td>\n",
       "      <td>09:24:21</td>\n",
       "      <td>1291974491547922434</td>\n",
       "      <td>ayah__hanita</td>\n",
       "      <td>🇲🇨Buzzer_NKRI✊🇲🇨❤️</td>\n",
       "      <td>biar setan, kadrun, politikus busuk &amp;amp; peng...</td>\n",
       "      <td>[]</td>\n",
       "      <td>[]</td>\n",
       "      <td>[https://pbs.twimg.com/media/E3ASOpvVoAIE6UI.jpg]</td>\n",
       "      <td>...</td>\n",
       "      <td></td>\n",
       "      <td></td>\n",
       "      <td></td>\n",
       "      <td></td>\n",
       "      <td></td>\n",
       "      <td></td>\n",
       "      <td>[]</td>\n",
       "      <td></td>\n",
       "      <td>-1</td>\n",
       "      <td>setan kadrun politikus busuk tolol nkri lari b...</td>\n",
       "    </tr>\n",
       "    <tr>\n",
       "      <th>2</th>\n",
       "      <td>2021-06-04 08:53:53 SE Asia Standard Time</td>\n",
       "      <td>2021-06-04</td>\n",
       "      <td>08:53:53</td>\n",
       "      <td>1334180999194767362</td>\n",
       "      <td>cyberkn__</td>\n",
       "      <td>Cyber KN16H7</td>\n",
       "      <td>@dahlia93362963 @abu_ar_rayyan @sukurwong @neg...</td>\n",
       "      <td>[]</td>\n",
       "      <td>[]</td>\n",
       "      <td>[]</td>\n",
       "      <td>...</td>\n",
       "      <td></td>\n",
       "      <td></td>\n",
       "      <td></td>\n",
       "      <td></td>\n",
       "      <td></td>\n",
       "      <td></td>\n",
       "      <td>[{'screen_name': 'dahlia93362963', 'name': 'da...</td>\n",
       "      <td></td>\n",
       "      <td>-1</td>\n",
       "      <td>bipang year tolol permanen ngeyel karakter bip...</td>\n",
       "    </tr>\n",
       "    <tr>\n",
       "      <th>3</th>\n",
       "      <td>2021-06-04 08:43:41 SE Asia Standard Time</td>\n",
       "      <td>2021-06-04</td>\n",
       "      <td>08:43:41</td>\n",
       "      <td>1334180999194767362</td>\n",
       "      <td>cyberkn__</td>\n",
       "      <td>Cyber KN16H7</td>\n",
       "      <td>😂 bipang of the year udah tolol permanen ngeye...</td>\n",
       "      <td>[]</td>\n",
       "      <td>[]</td>\n",
       "      <td>[]</td>\n",
       "      <td>...</td>\n",
       "      <td></td>\n",
       "      <td></td>\n",
       "      <td></td>\n",
       "      <td></td>\n",
       "      <td></td>\n",
       "      <td></td>\n",
       "      <td>[]</td>\n",
       "      <td></td>\n",
       "      <td>-1</td>\n",
       "      <td>bipang year tolol permanen ngeyel viralin bodo...</td>\n",
       "    </tr>\n",
       "    <tr>\n",
       "      <th>4</th>\n",
       "      <td>2021-06-04 08:40:51 SE Asia Standard Time</td>\n",
       "      <td>2021-06-04</td>\n",
       "      <td>08:40:51</td>\n",
       "      <td>1397542615919128578</td>\n",
       "      <td>erwinshah19</td>\n",
       "      <td>Erwin Shah</td>\n",
       "      <td>@goblokkadrun @herlin_673yp @ari3pras @ferdina...</td>\n",
       "      <td>[]</td>\n",
       "      <td>[]</td>\n",
       "      <td>[https://pbs.twimg.com/media/E3AIRmZVIAQJigD.jpg]</td>\n",
       "      <td>...</td>\n",
       "      <td></td>\n",
       "      <td></td>\n",
       "      <td></td>\n",
       "      <td></td>\n",
       "      <td></td>\n",
       "      <td></td>\n",
       "      <td>[{'screen_name': 'GoblokKadrun', 'name': 'Kadr...</td>\n",
       "      <td></td>\n",
       "      <td>-1</td>\n",
       "      <td>makan bipang ambawang cebong goblok tolol</td>\n",
       "    </tr>\n",
       "  </tbody>\n",
       "</table>\n",
       "<p>5 rows × 27 columns</p>\n",
       "</div>"
      ],
      "text/plain": [
       "                                  created_at       date      time  \\\n",
       "0  2021-06-04 11:23:52 SE Asia Standard Time 2021-06-04  11:23:52   \n",
       "1  2021-06-04 09:24:21 SE Asia Standard Time 2021-06-04  09:24:21   \n",
       "2  2021-06-04 08:53:53 SE Asia Standard Time 2021-06-04  08:53:53   \n",
       "3  2021-06-04 08:43:41 SE Asia Standard Time 2021-06-04  08:43:41   \n",
       "4  2021-06-04 08:40:51 SE Asia Standard Time 2021-06-04  08:40:51   \n",
       "\n",
       "               user_id       username                name  \\\n",
       "0   980982152786427904  dhejan_alfa13       dhejan alfa77   \n",
       "1  1291974491547922434   ayah__hanita  🇲🇨Buzzer_NKRI✊🇲🇨❤️   \n",
       "2  1334180999194767362      cyberkn__        Cyber KN16H7   \n",
       "3  1334180999194767362      cyberkn__        Cyber KN16H7   \n",
       "4  1397542615919128578    erwinshah19          Erwin Shah   \n",
       "\n",
       "                                                text mentions urls  \\\n",
       "0  @taufik06644475 @tijabar nah ini tolol yg bole...       []   []   \n",
       "1  biar setan, kadrun, politikus busuk &amp; peng...       []   []   \n",
       "2  @dahlia93362963 @abu_ar_rayyan @sukurwong @neg...       []   []   \n",
       "3  😂 bipang of the year udah tolol permanen ngeye...       []   []   \n",
       "4  @goblokkadrun @herlin_673yp @ari3pras @ferdina...       []   []   \n",
       "\n",
       "                                              photos  ...  near  geo  source  \\\n",
       "0                                                 []  ...                      \n",
       "1  [https://pbs.twimg.com/media/E3ASOpvVoAIE6UI.jpg]  ...                      \n",
       "2                                                 []  ...                      \n",
       "3                                                 []  ...                      \n",
       "4  [https://pbs.twimg.com/media/E3AIRmZVIAQJigD.jpg]  ...                      \n",
       "\n",
       "  user_rt_id user_rt  retweet_id  \\\n",
       "0                                  \n",
       "1                                  \n",
       "2                                  \n",
       "3                                  \n",
       "4                                  \n",
       "\n",
       "                                            reply_to retweet_date Label  \\\n",
       "0  [{'screen_name': 'Taufik06644475', 'name': 'Ta...                 -1   \n",
       "1                                                 []                 -1   \n",
       "2  [{'screen_name': 'dahlia93362963', 'name': 'da...                 -1   \n",
       "3                                                 []                 -1   \n",
       "4  [{'screen_name': 'GoblokKadrun', 'name': 'Kadr...                 -1   \n",
       "\n",
       "                                        cleaned_text  \n",
       "0  tolol berangkat haji negara negara mayoritas n...  \n",
       "1  setan kadrun politikus busuk tolol nkri lari b...  \n",
       "2  bipang year tolol permanen ngeyel karakter bip...  \n",
       "3  bipang year tolol permanen ngeyel viralin bodo...  \n",
       "4          makan bipang ambawang cebong goblok tolol  \n",
       "\n",
       "[5 rows x 27 columns]"
      ]
     },
     "execution_count": 5,
     "metadata": {},
     "output_type": "execute_result"
    }
   ],
   "source": [
    "data.head()"
   ]
  },
  {
   "cell_type": "code",
   "execution_count": 10,
   "metadata": {},
   "outputs": [
    {
     "name": "stdout",
     "output_type": "stream",
     "text": [
      "<class 'pandas.core.frame.DataFrame'>\n"
     ]
    },
    {
     "data": {
      "text/plain": [
       "('baris = ', 8117, ', Kolom = ', 27)"
      ]
     },
     "execution_count": 10,
     "metadata": {},
     "output_type": "execute_result"
    }
   ],
   "source": [
    "# Tipe Datanya : DataFrame (df)\n",
    "print(type(data))\n",
    "# Ukuran Data\n",
    "N, P = data.shape\n",
    "'baris = ', N, ', Kolom = ', P"
   ]
  },
  {
   "cell_type": "code",
   "execution_count": 11,
   "metadata": {},
   "outputs": [
    {
     "data": {
      "text/plain": [
       "Index(['created_at', 'date', 'time', 'user_id', 'username', 'name', 'text',\n",
       "       'mentions', 'urls', 'photos', 'replies_count', 'retweets_count',\n",
       "       'likes_count', 'hashtags', 'link', 'retweet', 'quote_url', 'near',\n",
       "       'geo', 'source', 'user_rt_id', 'user_rt', 'retweet_id', 'reply_to',\n",
       "       'retweet_date', 'Label', 'cleaned_text'],\n",
       "      dtype='object')"
      ]
     },
     "execution_count": 11,
     "metadata": {},
     "output_type": "execute_result"
    }
   ],
   "source": [
    "data.keys()"
   ]
  },
  {
   "cell_type": "markdown",
   "metadata": {},
   "source": [
    "### Mengecek tweet dengan jumlah likes, replies dan retweets tertinggi"
   ]
  },
  {
   "cell_type": "code",
   "execution_count": 13,
   "metadata": {},
   "outputs": [],
   "source": [
    "cekdata = data[['username', 'tweet', 'likes_count', 'replies_count', 'retweets_count']]"
   ]
  },
  {
   "cell_type": "markdown",
   "metadata": {},
   "source": [
    "### Likes"
   ]
  },
  {
   "cell_type": "code",
   "execution_count": 27,
   "metadata": {},
   "outputs": [
    {
     "data": {
      "text/html": [
       "<div>\n",
       "<style scoped>\n",
       "    .dataframe tbody tr th:only-of-type {\n",
       "        vertical-align: middle;\n",
       "    }\n",
       "\n",
       "    .dataframe tbody tr th {\n",
       "        vertical-align: top;\n",
       "    }\n",
       "\n",
       "    .dataframe thead th {\n",
       "        text-align: right;\n",
       "    }\n",
       "</style>\n",
       "<table border=\"1\" class=\"dataframe\">\n",
       "  <thead>\n",
       "    <tr style=\"text-align: right;\">\n",
       "      <th></th>\n",
       "      <th>username</th>\n",
       "      <th>tweet</th>\n",
       "      <th>likes_count</th>\n",
       "      <th>replies_count</th>\n",
       "      <th>retweets_count</th>\n",
       "    </tr>\n",
       "  </thead>\n",
       "  <tbody>\n",
       "    <tr>\n",
       "      <th>5834</th>\n",
       "      <td>msaid_didu</td>\n",
       "      <td>Izinkan #sayaketawa.  Dirjen itu jabatan struk...</td>\n",
       "      <td>3359</td>\n",
       "      <td>188</td>\n",
       "      <td>1209</td>\n",
       "    </tr>\n",
       "    <tr>\n",
       "      <th>4126</th>\n",
       "      <td>katrinadewii</td>\n",
       "      <td>Banyak Cebong Nanya Prestasi Prabowo..Pertanya...</td>\n",
       "      <td>1643</td>\n",
       "      <td>136</td>\n",
       "      <td>901</td>\n",
       "    </tr>\n",
       "  </tbody>\n",
       "</table>\n",
       "</div>"
      ],
      "text/plain": [
       "          username                                              tweet  \\\n",
       "5834    msaid_didu  Izinkan #sayaketawa.  Dirjen itu jabatan struk...   \n",
       "4126  katrinadewii  Banyak Cebong Nanya Prestasi Prabowo..Pertanya...   \n",
       "\n",
       "      likes_count  replies_count  retweets_count  \n",
       "5834         3359            188            1209  \n",
       "4126         1643            136             901  "
      ]
     },
     "execution_count": 27,
     "metadata": {},
     "output_type": "execute_result"
    }
   ],
   "source": [
    "#2 Tweet dengan nilai Likes tertinggi\n",
    "cekdata.nlargest(2, 'likes_count')"
   ]
  },
  {
   "cell_type": "code",
   "execution_count": 20,
   "metadata": {},
   "outputs": [
    {
     "data": {
      "text/plain": [
       "'Izinkan #sayaketawa.  Dirjen itu jabatan struktural yg diangkat oleh Presiden. Kalau dipindahkan ke jabatan fungsional artinya dicopot dari jabatan Dirjen. Semoga kami semua belum tolol dan tidak akan jadi terlalu tolol'"
      ]
     },
     "execution_count": 20,
     "metadata": {},
     "output_type": "execute_result"
    }
   ],
   "source": [
    "cekdata['tweet'][5834]"
   ]
  },
  {
   "cell_type": "markdown",
   "metadata": {},
   "source": [
    "### Replies"
   ]
  },
  {
   "cell_type": "code",
   "execution_count": 30,
   "metadata": {
    "scrolled": true
   },
   "outputs": [
    {
     "data": {
      "text/html": [
       "<div>\n",
       "<style scoped>\n",
       "    .dataframe tbody tr th:only-of-type {\n",
       "        vertical-align: middle;\n",
       "    }\n",
       "\n",
       "    .dataframe tbody tr th {\n",
       "        vertical-align: top;\n",
       "    }\n",
       "\n",
       "    .dataframe thead th {\n",
       "        text-align: right;\n",
       "    }\n",
       "</style>\n",
       "<table border=\"1\" class=\"dataframe\">\n",
       "  <thead>\n",
       "    <tr style=\"text-align: right;\">\n",
       "      <th></th>\n",
       "      <th>username</th>\n",
       "      <th>tweet</th>\n",
       "      <th>likes_count</th>\n",
       "      <th>replies_count</th>\n",
       "      <th>retweets_count</th>\n",
       "    </tr>\n",
       "  </thead>\n",
       "  <tbody>\n",
       "    <tr>\n",
       "      <th>3618</th>\n",
       "      <td>teddygusnaidi</td>\n",
       "      <td>Ketika gue menampilkan fakta dan menunggu bant...</td>\n",
       "      <td>672</td>\n",
       "      <td>445</td>\n",
       "      <td>231</td>\n",
       "    </tr>\n",
       "    <tr>\n",
       "      <th>5834</th>\n",
       "      <td>msaid_didu</td>\n",
       "      <td>Izinkan #sayaketawa.  Dirjen itu jabatan struk...</td>\n",
       "      <td>3359</td>\n",
       "      <td>188</td>\n",
       "      <td>1209</td>\n",
       "    </tr>\n",
       "  </tbody>\n",
       "</table>\n",
       "</div>"
      ],
      "text/plain": [
       "           username                                              tweet  \\\n",
       "3618  teddygusnaidi  Ketika gue menampilkan fakta dan menunggu bant...   \n",
       "5834     msaid_didu  Izinkan #sayaketawa.  Dirjen itu jabatan struk...   \n",
       "\n",
       "      likes_count  replies_count  retweets_count  \n",
       "3618          672            445             231  \n",
       "5834         3359            188            1209  "
      ]
     },
     "execution_count": 30,
     "metadata": {},
     "output_type": "execute_result"
    }
   ],
   "source": [
    "#2 Tweet dengan nilai Replies tertinggi\n",
    "cekdata.nlargest(2, 'replies_count')"
   ]
  },
  {
   "cell_type": "code",
   "execution_count": 32,
   "metadata": {},
   "outputs": [
    {
     "data": {
      "text/plain": [
       "'Ketika gue menampilkan fakta dan menunggu bantahan dari kelompok Prabowo, jawaban yang gue dapat adalah:  1. Basi,  2. wkwkwkw,  3. Payah lu,  4. Fitnah,  5. Dungu,  6. Tolol,  7. Cebong, 8. Babi 9. Bangsat 10. Dan makian lainnya.. 😄  #BuzzerKenyang'"
      ]
     },
     "execution_count": 32,
     "metadata": {},
     "output_type": "execute_result"
    }
   ],
   "source": [
    "cekdata['tweet'][3618]"
   ]
  },
  {
   "cell_type": "markdown",
   "metadata": {},
   "source": [
    "### Retweets"
   ]
  },
  {
   "cell_type": "code",
   "execution_count": 34,
   "metadata": {
    "scrolled": true
   },
   "outputs": [
    {
     "data": {
      "text/html": [
       "<div>\n",
       "<style scoped>\n",
       "    .dataframe tbody tr th:only-of-type {\n",
       "        vertical-align: middle;\n",
       "    }\n",
       "\n",
       "    .dataframe tbody tr th {\n",
       "        vertical-align: top;\n",
       "    }\n",
       "\n",
       "    .dataframe thead th {\n",
       "        text-align: right;\n",
       "    }\n",
       "</style>\n",
       "<table border=\"1\" class=\"dataframe\">\n",
       "  <thead>\n",
       "    <tr style=\"text-align: right;\">\n",
       "      <th></th>\n",
       "      <th>username</th>\n",
       "      <th>tweet</th>\n",
       "      <th>likes_count</th>\n",
       "      <th>replies_count</th>\n",
       "      <th>retweets_count</th>\n",
       "    </tr>\n",
       "  </thead>\n",
       "  <tbody>\n",
       "    <tr>\n",
       "      <th>5834</th>\n",
       "      <td>msaid_didu</td>\n",
       "      <td>Izinkan #sayaketawa.  Dirjen itu jabatan struk...</td>\n",
       "      <td>3359</td>\n",
       "      <td>188</td>\n",
       "      <td>1209</td>\n",
       "    </tr>\n",
       "    <tr>\n",
       "      <th>4126</th>\n",
       "      <td>katrinadewii</td>\n",
       "      <td>Banyak Cebong Nanya Prestasi Prabowo..Pertanya...</td>\n",
       "      <td>1643</td>\n",
       "      <td>136</td>\n",
       "      <td>901</td>\n",
       "    </tr>\n",
       "  </tbody>\n",
       "</table>\n",
       "</div>"
      ],
      "text/plain": [
       "          username                                              tweet  \\\n",
       "5834    msaid_didu  Izinkan #sayaketawa.  Dirjen itu jabatan struk...   \n",
       "4126  katrinadewii  Banyak Cebong Nanya Prestasi Prabowo..Pertanya...   \n",
       "\n",
       "      likes_count  replies_count  retweets_count  \n",
       "5834         3359            188            1209  \n",
       "4126         1643            136             901  "
      ]
     },
     "execution_count": 34,
     "metadata": {},
     "output_type": "execute_result"
    }
   ],
   "source": [
    "#2 Tweet dengan nilai retweets tertinggi\n",
    "cekdata.nlargest(2, 'retweets_count')"
   ]
  },
  {
   "cell_type": "code",
   "execution_count": 35,
   "metadata": {},
   "outputs": [
    {
     "data": {
      "text/plain": [
       "'Izinkan #sayaketawa.  Dirjen itu jabatan struktural yg diangkat oleh Presiden. Kalau dipindahkan ke jabatan fungsional artinya dicopot dari jabatan Dirjen. Semoga kami semua belum tolol dan tidak akan jadi terlalu tolol'"
      ]
     },
     "execution_count": 35,
     "metadata": {},
     "output_type": "execute_result"
    }
   ],
   "source": [
    "cekdata['tweet'][5834]"
   ]
  },
  {
   "cell_type": "code",
   "execution_count": 23,
   "metadata": {},
   "outputs": [
    {
     "name": "stdout",
     "output_type": "stream",
     "text": [
      "<class 'pandas.core.frame.DataFrame'>\n",
      "RangeIndex: 8117 entries, 0 to 8116\n",
      "Data columns (total 27 columns):\n",
      " #   Column          Non-Null Count  Dtype         \n",
      "---  ------          --------------  -----         \n",
      " 0   created_at      8117 non-null   object        \n",
      " 1   date            8117 non-null   datetime64[ns]\n",
      " 2   time            8117 non-null   object        \n",
      " 3   user_id         8117 non-null   int64         \n",
      " 4   username        8117 non-null   object        \n",
      " 5   name            8117 non-null   object        \n",
      " 6   text            8117 non-null   object        \n",
      " 7   mentions        8117 non-null   object        \n",
      " 8   urls            8117 non-null   object        \n",
      " 9   photos          8117 non-null   object        \n",
      " 10  replies_count   8117 non-null   int64         \n",
      " 11  retweets_count  8117 non-null   int64         \n",
      " 12  likes_count     8117 non-null   int64         \n",
      " 13  hashtags        8117 non-null   object        \n",
      " 14  link            8117 non-null   object        \n",
      " 15  retweet         8117 non-null   bool          \n",
      " 16  quote_url       8117 non-null   object        \n",
      " 17  near            8117 non-null   object        \n",
      " 18  geo             8117 non-null   object        \n",
      " 19  source          8117 non-null   object        \n",
      " 20  user_rt_id      8117 non-null   object        \n",
      " 21  user_rt         8117 non-null   object        \n",
      " 22  retweet_id      8117 non-null   object        \n",
      " 23  reply_to        8117 non-null   object        \n",
      " 24  retweet_date    8117 non-null   object        \n",
      " 25  Label           8117 non-null   int64         \n",
      " 26  cleaned_text    8117 non-null   object        \n",
      "dtypes: bool(1), datetime64[ns](1), int64(5), object(20)\n",
      "memory usage: 1.6+ MB\n"
     ]
    }
   ],
   "source": [
    "data.info()"
   ]
  },
  {
   "cell_type": "code",
   "execution_count": 52,
   "metadata": {},
   "outputs": [
    {
     "data": {
      "image/png": "[encoded data removed]",
      "text/plain": [
       "<Figure size 720x648 with 1 Axes>"
      ]
     },
     "metadata": {},
     "output_type": "display_data"
    }
   ],
   "source": [
    "#time = pd.DataFrame(data)\n",
    "\n",
    "time.date = pd.to_datetime(time.date)\n",
    "time.plot.line(x='date', y='user_id', figsize=(10,9), linewidth=5, fontsize=10)\n",
    "plt.show()"
   ]
  },
  {
   "cell_type": "markdown",
   "metadata": {},
   "source": [
    "Ujaran kebencian di twitter terus meningkat setiap tahunnya, tahun 2021 saat ini menjadi tahun tertinggi dari banyaknya hatespeech di twitter."
   ]
  },
  {
   "cell_type": "code",
   "execution_count": 48,
   "metadata": {
    "scrolled": false
   },
   "outputs": [
    {
     "data": {
      "text/plain": [
       "<matplotlib.axes._subplots.AxesSubplot at 0x2a509e47208>"
      ]
     },
     "execution_count": 48,
     "metadata": {},
     "output_type": "execute_result"
    },
    {
     "data": {
      "image/png": "[encoded data removed]",
      "text/plain": [
       "<Figure size 1080x288 with 1 Axes>"
      ]
     },
     "metadata": {},
     "output_type": "display_data"
    }
   ],
   "source": [
    "data.plot(x=\"time\", y='user_id', figsize=(15,4))"
   ]
  },
  {
   "cell_type": "markdown",
   "metadata": {},
   "source": [
    "Waktu terbanyak yang memuat data ujaran kebencian di twitter adalah pada siang hari dan pagi hari."
   ]
  },
  {
   "cell_type": "code",
   "execution_count": 1,
   "metadata": {},
   "outputs": [],
   "source": [
    "#data.plot(x=\"mentions\", figsize=(15,4))"
   ]
  },
  {
   "cell_type": "code",
   "execution_count": 53,
   "metadata": {},
   "outputs": [],
   "source": [
    "import string\n",
    "import nltk"
   ]
  },
  {
   "cell_type": "markdown",
   "metadata": {},
   "source": [
    "### Non Hate Speech"
   ]
  },
  {
   "cell_type": "code",
   "execution_count": 2,
   "metadata": {},
   "outputs": [],
   "source": [
    "datanhs = pd.read_json('./NLP_Models/data/dataNonHate.json')"
   ]
  },
  {
   "cell_type": "code",
   "execution_count": 3,
   "metadata": {},
   "outputs": [
    {
     "data": {
      "text/html": [
       "<div>\n",
       "<style scoped>\n",
       "    .dataframe tbody tr th:only-of-type {\n",
       "        vertical-align: middle;\n",
       "    }\n",
       "\n",
       "    .dataframe tbody tr th {\n",
       "        vertical-align: top;\n",
       "    }\n",
       "\n",
       "    .dataframe thead th {\n",
       "        text-align: right;\n",
       "    }\n",
       "</style>\n",
       "<table border=\"1\" class=\"dataframe\">\n",
       "  <thead>\n",
       "    <tr style=\"text-align: right;\">\n",
       "      <th></th>\n",
       "      <th>created_at</th>\n",
       "      <th>date</th>\n",
       "      <th>time</th>\n",
       "      <th>user_id</th>\n",
       "      <th>username</th>\n",
       "      <th>name</th>\n",
       "      <th>tweet</th>\n",
       "      <th>mentions</th>\n",
       "      <th>urls</th>\n",
       "      <th>photos</th>\n",
       "      <th>...</th>\n",
       "      <th>quote_url</th>\n",
       "      <th>near</th>\n",
       "      <th>geo</th>\n",
       "      <th>source</th>\n",
       "      <th>user_rt_id</th>\n",
       "      <th>user_rt</th>\n",
       "      <th>retweet_id</th>\n",
       "      <th>reply_to</th>\n",
       "      <th>retweet_date</th>\n",
       "      <th>Label</th>\n",
       "    </tr>\n",
       "  </thead>\n",
       "  <tbody>\n",
       "    <tr>\n",
       "      <th>0</th>\n",
       "      <td>2021-06-05 22:05:27 SE Asia Standard Time</td>\n",
       "      <td>2021-06-05</td>\n",
       "      <td>22:05:27</td>\n",
       "      <td>1331851918998532096</td>\n",
       "      <td>nuchano</td>\n",
       "      <td>nurul ✰</td>\n",
       "      <td>@aurumstay @schfess semangat yaa key!! 😆💗 semo...</td>\n",
       "      <td>[]</td>\n",
       "      <td>[]</td>\n",
       "      <td>[https://pbs.twimg.com/tweet_video_thumb/E3IKA...</td>\n",
       "      <td>...</td>\n",
       "      <td></td>\n",
       "      <td></td>\n",
       "      <td></td>\n",
       "      <td></td>\n",
       "      <td></td>\n",
       "      <td></td>\n",
       "      <td></td>\n",
       "      <td>[{'screen_name': 'aurumstay', 'name': 'Keiynni...</td>\n",
       "      <td></td>\n",
       "      <td>1</td>\n",
       "    </tr>\n",
       "    <tr>\n",
       "      <th>1</th>\n",
       "      <td>2021-06-05 21:29:34 SE Asia Standard Time</td>\n",
       "      <td>2021-06-05</td>\n",
       "      <td>21:29:34</td>\n",
       "      <td>1268646569907118080</td>\n",
       "      <td>c7hl94</td>\n",
       "      <td>njaa</td>\n",
       "      <td>apa yg buat gw kek gini, gw cerita walaupun it...</td>\n",
       "      <td>[]</td>\n",
       "      <td>[]</td>\n",
       "      <td>[]</td>\n",
       "      <td>...</td>\n",
       "      <td></td>\n",
       "      <td></td>\n",
       "      <td></td>\n",
       "      <td></td>\n",
       "      <td></td>\n",
       "      <td></td>\n",
       "      <td></td>\n",
       "      <td>[]</td>\n",
       "      <td></td>\n",
       "      <td>1</td>\n",
       "    </tr>\n",
       "    <tr>\n",
       "      <th>2</th>\n",
       "      <td>2021-06-05 20:32:03 SE Asia Standard Time</td>\n",
       "      <td>2021-06-05</td>\n",
       "      <td>20:32:03</td>\n",
       "      <td>1223648728877191168</td>\n",
       "      <td>kysya041</td>\n",
       "      <td>Kaiko_chi04🍵🧁 - キレイサカ</td>\n",
       "      <td>@zahraaysha_ Huhuhu.. iya, aku cuma kurang mot...</td>\n",
       "      <td>[]</td>\n",
       "      <td>[]</td>\n",
       "      <td>[]</td>\n",
       "      <td>...</td>\n",
       "      <td></td>\n",
       "      <td></td>\n",
       "      <td></td>\n",
       "      <td></td>\n",
       "      <td></td>\n",
       "      <td></td>\n",
       "      <td></td>\n",
       "      <td>[{'screen_name': 'zahraaysha_', 'name': 'Safin...</td>\n",
       "      <td></td>\n",
       "      <td>1</td>\n",
       "    </tr>\n",
       "    <tr>\n",
       "      <th>3</th>\n",
       "      <td>2021-06-05 19:32:58 SE Asia Standard Time</td>\n",
       "      <td>2021-06-05</td>\n",
       "      <td>19:32:58</td>\n",
       "      <td>1378447450596249602</td>\n",
       "      <td>kangjoonmin</td>\n",
       "      <td>Kang Joon-min</td>\n",
       "      <td>@schfess Tetap semangat 🔥. Aku juga dulu pas p...</td>\n",
       "      <td>[]</td>\n",
       "      <td>[]</td>\n",
       "      <td>[]</td>\n",
       "      <td>...</td>\n",
       "      <td></td>\n",
       "      <td></td>\n",
       "      <td></td>\n",
       "      <td></td>\n",
       "      <td></td>\n",
       "      <td></td>\n",
       "      <td></td>\n",
       "      <td>[{'screen_name': 'schfess', 'name': 'SCHFESS',...</td>\n",
       "      <td></td>\n",
       "      <td>1</td>\n",
       "    </tr>\n",
       "    <tr>\n",
       "      <th>4</th>\n",
       "      <td>2021-06-05 19:31:44 SE Asia Standard Time</td>\n",
       "      <td>2021-06-05</td>\n",
       "      <td>19:31:44</td>\n",
       "      <td>738699002</td>\n",
       "      <td>kevin_gotama</td>\n",
       "      <td>Kevin Gotama 吴信杰</td>\n",
       "      <td>Aku ada pantun buat @gabyJKT48                ...</td>\n",
       "      <td>[{'screen_name': 'gabyjkt48', 'name': 'gabriel...</td>\n",
       "      <td>[]</td>\n",
       "      <td>[]</td>\n",
       "      <td>...</td>\n",
       "      <td></td>\n",
       "      <td></td>\n",
       "      <td></td>\n",
       "      <td></td>\n",
       "      <td></td>\n",
       "      <td></td>\n",
       "      <td></td>\n",
       "      <td>[]</td>\n",
       "      <td></td>\n",
       "      <td>1</td>\n",
       "    </tr>\n",
       "  </tbody>\n",
       "</table>\n",
       "<p>5 rows × 26 columns</p>\n",
       "</div>"
      ],
      "text/plain": [
       "                                  created_at       date      time  \\\n",
       "0  2021-06-05 22:05:27 SE Asia Standard Time 2021-06-05  22:05:27   \n",
       "1  2021-06-05 21:29:34 SE Asia Standard Time 2021-06-05  21:29:34   \n",
       "2  2021-06-05 20:32:03 SE Asia Standard Time 2021-06-05  20:32:03   \n",
       "3  2021-06-05 19:32:58 SE Asia Standard Time 2021-06-05  19:32:58   \n",
       "4  2021-06-05 19:31:44 SE Asia Standard Time 2021-06-05  19:31:44   \n",
       "\n",
       "               user_id      username                   name  \\\n",
       "0  1331851918998532096       nuchano                nurul ✰   \n",
       "1  1268646569907118080        c7hl94                   njaa   \n",
       "2  1223648728877191168      kysya041  Kaiko_chi04🍵🧁 - キレイサカ   \n",
       "3  1378447450596249602   kangjoonmin          Kang Joon-min   \n",
       "4            738699002  kevin_gotama       Kevin Gotama 吴信杰   \n",
       "\n",
       "                                               tweet  \\\n",
       "0  @aurumstay @schfess semangat yaa key!! 😆💗 semo...   \n",
       "1  apa yg buat gw kek gini, gw cerita walaupun it...   \n",
       "2  @zahraaysha_ Huhuhu.. iya, aku cuma kurang mot...   \n",
       "3  @schfess Tetap semangat 🔥. Aku juga dulu pas p...   \n",
       "4  Aku ada pantun buat @gabyJKT48                ...   \n",
       "\n",
       "                                            mentions urls  \\\n",
       "0                                                 []   []   \n",
       "1                                                 []   []   \n",
       "2                                                 []   []   \n",
       "3                                                 []   []   \n",
       "4  [{'screen_name': 'gabyjkt48', 'name': 'gabriel...   []   \n",
       "\n",
       "                                              photos  ...  quote_url  near  \\\n",
       "0  [https://pbs.twimg.com/tweet_video_thumb/E3IKA...  ...                    \n",
       "1                                                 []  ...                    \n",
       "2                                                 []  ...                    \n",
       "3                                                 []  ...                    \n",
       "4                                                 []  ...                    \n",
       "\n",
       "   geo source user_rt_id  user_rt retweet_id  \\\n",
       "0                                              \n",
       "1                                              \n",
       "2                                              \n",
       "3                                              \n",
       "4                                              \n",
       "\n",
       "                                            reply_to retweet_date Label  \n",
       "0  [{'screen_name': 'aurumstay', 'name': 'Keiynni...                  1  \n",
       "1                                                 []                  1  \n",
       "2  [{'screen_name': 'zahraaysha_', 'name': 'Safin...                  1  \n",
       "3  [{'screen_name': 'schfess', 'name': 'SCHFESS',...                  1  \n",
       "4                                                 []                  1  \n",
       "\n",
       "[5 rows x 26 columns]"
      ]
     },
     "execution_count": 3,
     "metadata": {},
     "output_type": "execute_result"
    }
   ],
   "source": [
    "datanhs.head()"
   ]
  },
  {
   "cell_type": "code",
   "execution_count": 6,
   "metadata": {},
   "outputs": [
    {
     "name": "stdout",
     "output_type": "stream",
     "text": [
      "<class 'pandas.core.frame.DataFrame'>\n"
     ]
    },
    {
     "data": {
      "text/plain": [
       "('baris = ', 6700, ', Kolom = ', 26)"
      ]
     },
     "execution_count": 6,
     "metadata": {},
     "output_type": "execute_result"
    }
   ],
   "source": [
    "# Tipe Datanya : DataFrame (df)\n",
    "print(type(datanhs))\n",
    "# Ukuran Data\n",
    "N, P = datanhs.shape\n",
    "'baris = ', N, ', Kolom = ', P"
   ]
  },
  {
   "cell_type": "code",
   "execution_count": 7,
   "metadata": {},
   "outputs": [
    {
     "data": {
      "text/plain": [
       "Index(['created_at', 'date', 'time', 'user_id', 'username', 'name', 'tweet',\n",
       "       'mentions', 'urls', 'photos', 'replies_count', 'retweets_count',\n",
       "       'likes_count', 'hashtags', 'link', 'retweet', 'quote_url', 'near',\n",
       "       'geo', 'source', 'user_rt_id', 'user_rt', 'retweet_id', 'reply_to',\n",
       "       'retweet_date', 'Label'],\n",
       "      dtype='object')"
      ]
     },
     "execution_count": 7,
     "metadata": {},
     "output_type": "execute_result"
    }
   ],
   "source": [
    "datanhs.keys()"
   ]
  },
  {
   "cell_type": "markdown",
   "metadata": {},
   "source": [
    "### Mengecek tweet dengan jumlah likes, replies dan retweets tertinggi"
   ]
  },
  {
   "cell_type": "code",
   "execution_count": 9,
   "metadata": {},
   "outputs": [],
   "source": [
    "cekdatanhs = datanhs[['username', 'tweet', 'likes_count', 'replies_count', 'retweets_count']]"
   ]
  },
  {
   "cell_type": "markdown",
   "metadata": {},
   "source": [
    "### Likes"
   ]
  },
  {
   "cell_type": "code",
   "execution_count": 10,
   "metadata": {},
   "outputs": [
    {
     "data": {
      "text/html": [
       "<div>\n",
       "<style scoped>\n",
       "    .dataframe tbody tr th:only-of-type {\n",
       "        vertical-align: middle;\n",
       "    }\n",
       "\n",
       "    .dataframe tbody tr th {\n",
       "        vertical-align: top;\n",
       "    }\n",
       "\n",
       "    .dataframe thead th {\n",
       "        text-align: right;\n",
       "    }\n",
       "</style>\n",
       "<table border=\"1\" class=\"dataframe\">\n",
       "  <thead>\n",
       "    <tr style=\"text-align: right;\">\n",
       "      <th></th>\n",
       "      <th>username</th>\n",
       "      <th>tweet</th>\n",
       "      <th>likes_count</th>\n",
       "      <th>replies_count</th>\n",
       "      <th>retweets_count</th>\n",
       "    </tr>\n",
       "  </thead>\n",
       "  <tbody>\n",
       "    <tr>\n",
       "      <th>2709</th>\n",
       "      <td>likechizu</td>\n",
       "      <td>Yang masih sekolah dan kuliah, semangat terus ...</td>\n",
       "      <td>10133</td>\n",
       "      <td>638</td>\n",
       "      <td>1558</td>\n",
       "    </tr>\n",
       "    <tr>\n",
       "      <th>4370</th>\n",
       "      <td>xxxbyefelicia</td>\n",
       "      <td>Zaman akak sekolah dulu cop tiang adalah sejen...</td>\n",
       "      <td>4292</td>\n",
       "      <td>20</td>\n",
       "      <td>3224</td>\n",
       "    </tr>\n",
       "  </tbody>\n",
       "</table>\n",
       "</div>"
      ],
      "text/plain": [
       "           username                                              tweet  \\\n",
       "2709      likechizu  Yang masih sekolah dan kuliah, semangat terus ...   \n",
       "4370  xxxbyefelicia  Zaman akak sekolah dulu cop tiang adalah sejen...   \n",
       "\n",
       "      likes_count  replies_count  retweets_count  \n",
       "2709        10133            638            1558  \n",
       "4370         4292             20            3224  "
      ]
     },
     "execution_count": 10,
     "metadata": {},
     "output_type": "execute_result"
    }
   ],
   "source": [
    "#2 Tweet dengan nilai Likes tertinggi\n",
    "cekdatanhs.nlargest(2, 'likes_count')"
   ]
  },
  {
   "cell_type": "code",
   "execution_count": 12,
   "metadata": {},
   "outputs": [
    {
     "data": {
      "text/plain": [
       "'Yang masih sekolah dan kuliah, semangat terus buat kita yaa!! Semoga bisa lulus dengan hasil yang memuaskan!!'"
      ]
     },
     "execution_count": 12,
     "metadata": {},
     "output_type": "execute_result"
    }
   ],
   "source": [
    "cekdatanhs['tweet'][2709]"
   ]
  },
  {
   "cell_type": "markdown",
   "metadata": {},
   "source": [
    "### Replies"
   ]
  },
  {
   "cell_type": "code",
   "execution_count": 13,
   "metadata": {
    "scrolled": true
   },
   "outputs": [
    {
     "data": {
      "text/html": [
       "<div>\n",
       "<style scoped>\n",
       "    .dataframe tbody tr th:only-of-type {\n",
       "        vertical-align: middle;\n",
       "    }\n",
       "\n",
       "    .dataframe tbody tr th {\n",
       "        vertical-align: top;\n",
       "    }\n",
       "\n",
       "    .dataframe thead th {\n",
       "        text-align: right;\n",
       "    }\n",
       "</style>\n",
       "<table border=\"1\" class=\"dataframe\">\n",
       "  <thead>\n",
       "    <tr style=\"text-align: right;\">\n",
       "      <th></th>\n",
       "      <th>username</th>\n",
       "      <th>tweet</th>\n",
       "      <th>likes_count</th>\n",
       "      <th>replies_count</th>\n",
       "      <th>retweets_count</th>\n",
       "    </tr>\n",
       "  </thead>\n",
       "  <tbody>\n",
       "    <tr>\n",
       "      <th>2709</th>\n",
       "      <td>likechizu</td>\n",
       "      <td>Yang masih sekolah dan kuliah, semangat terus ...</td>\n",
       "      <td>10133</td>\n",
       "      <td>638</td>\n",
       "      <td>1558</td>\n",
       "    </tr>\n",
       "    <tr>\n",
       "      <th>6376</th>\n",
       "      <td>convomf</td>\n",
       "      <td>kalian udah bisa masak apa aja? 💭</td>\n",
       "      <td>4</td>\n",
       "      <td>152</td>\n",
       "      <td>0</td>\n",
       "    </tr>\n",
       "  </tbody>\n",
       "</table>\n",
       "</div>"
      ],
      "text/plain": [
       "       username                                              tweet  \\\n",
       "2709  likechizu  Yang masih sekolah dan kuliah, semangat terus ...   \n",
       "6376    convomf                  kalian udah bisa masak apa aja? 💭   \n",
       "\n",
       "      likes_count  replies_count  retweets_count  \n",
       "2709        10133            638            1558  \n",
       "6376            4            152               0  "
      ]
     },
     "execution_count": 13,
     "metadata": {},
     "output_type": "execute_result"
    }
   ],
   "source": [
    "#2 Tweet dengan nilai Replies tertinggi\n",
    "cekdatanhs.nlargest(2, 'replies_count')"
   ]
  },
  {
   "cell_type": "code",
   "execution_count": 15,
   "metadata": {},
   "outputs": [
    {
     "data": {
      "text/plain": [
       "'Yang masih sekolah dan kuliah, semangat terus buat kita yaa!! Semoga bisa lulus dengan hasil yang memuaskan!!'"
      ]
     },
     "execution_count": 15,
     "metadata": {},
     "output_type": "execute_result"
    }
   ],
   "source": [
    "cekdatanhs['tweet'][2709]"
   ]
  },
  {
   "cell_type": "markdown",
   "metadata": {},
   "source": [
    "### Retweets"
   ]
  },
  {
   "cell_type": "code",
   "execution_count": 16,
   "metadata": {
    "scrolled": true
   },
   "outputs": [
    {
     "data": {
      "text/html": [
       "<div>\n",
       "<style scoped>\n",
       "    .dataframe tbody tr th:only-of-type {\n",
       "        vertical-align: middle;\n",
       "    }\n",
       "\n",
       "    .dataframe tbody tr th {\n",
       "        vertical-align: top;\n",
       "    }\n",
       "\n",
       "    .dataframe thead th {\n",
       "        text-align: right;\n",
       "    }\n",
       "</style>\n",
       "<table border=\"1\" class=\"dataframe\">\n",
       "  <thead>\n",
       "    <tr style=\"text-align: right;\">\n",
       "      <th></th>\n",
       "      <th>username</th>\n",
       "      <th>tweet</th>\n",
       "      <th>likes_count</th>\n",
       "      <th>replies_count</th>\n",
       "      <th>retweets_count</th>\n",
       "    </tr>\n",
       "  </thead>\n",
       "  <tbody>\n",
       "    <tr>\n",
       "      <th>4370</th>\n",
       "      <td>xxxbyefelicia</td>\n",
       "      <td>Zaman akak sekolah dulu cop tiang adalah sejen...</td>\n",
       "      <td>4292</td>\n",
       "      <td>20</td>\n",
       "      <td>3224</td>\n",
       "    </tr>\n",
       "    <tr>\n",
       "      <th>2709</th>\n",
       "      <td>likechizu</td>\n",
       "      <td>Yang masih sekolah dan kuliah, semangat terus ...</td>\n",
       "      <td>10133</td>\n",
       "      <td>638</td>\n",
       "      <td>1558</td>\n",
       "    </tr>\n",
       "  </tbody>\n",
       "</table>\n",
       "</div>"
      ],
      "text/plain": [
       "           username                                              tweet  \\\n",
       "4370  xxxbyefelicia  Zaman akak sekolah dulu cop tiang adalah sejen...   \n",
       "2709      likechizu  Yang masih sekolah dan kuliah, semangat terus ...   \n",
       "\n",
       "      likes_count  replies_count  retweets_count  \n",
       "4370         4292             20            3224  \n",
       "2709        10133            638            1558  "
      ]
     },
     "execution_count": 16,
     "metadata": {},
     "output_type": "execute_result"
    }
   ],
   "source": [
    "#2 Tweet dengan nilai retweets tertinggi\n",
    "cekdatanhs.nlargest(2, 'retweets_count')"
   ]
  },
  {
   "cell_type": "code",
   "execution_count": 18,
   "metadata": {},
   "outputs": [
    {
     "data": {
      "text/plain": [
       "'Zaman akak sekolah dulu cop tiang adalah sejenis extreme sport. Ada yang patah gigi tersembam, akak bersimen kaki sebulan sbb cop tiang. Ada yang seliuh tangan.  Aktiviti yang memerlukan ketangkasan, semangat berpasukan dan kepercayaan. Tibahhh. Running Man patut try main.'"
      ]
     },
     "execution_count": 18,
     "metadata": {},
     "output_type": "execute_result"
    }
   ],
   "source": [
    "cekdatanhs['tweet'][4370]"
   ]
  },
  {
   "cell_type": "code",
   "execution_count": 19,
   "metadata": {},
   "outputs": [
    {
     "name": "stdout",
     "output_type": "stream",
     "text": [
      "<class 'pandas.core.frame.DataFrame'>\n",
      "RangeIndex: 6700 entries, 0 to 6699\n",
      "Data columns (total 26 columns):\n",
      " #   Column          Non-Null Count  Dtype         \n",
      "---  ------          --------------  -----         \n",
      " 0   created_at      6700 non-null   object        \n",
      " 1   date            6700 non-null   datetime64[ns]\n",
      " 2   time            6700 non-null   object        \n",
      " 3   user_id         6700 non-null   int64         \n",
      " 4   username        6700 non-null   object        \n",
      " 5   name            6700 non-null   object        \n",
      " 6   tweet           6700 non-null   object        \n",
      " 7   mentions        6700 non-null   object        \n",
      " 8   urls            6700 non-null   object        \n",
      " 9   photos          6700 non-null   object        \n",
      " 10  replies_count   6700 non-null   int64         \n",
      " 11  retweets_count  6700 non-null   int64         \n",
      " 12  likes_count     6700 non-null   int64         \n",
      " 13  hashtags        6700 non-null   object        \n",
      " 14  link            6700 non-null   object        \n",
      " 15  retweet         6700 non-null   bool          \n",
      " 16  quote_url       6700 non-null   object        \n",
      " 17  near            6700 non-null   object        \n",
      " 18  geo             6700 non-null   object        \n",
      " 19  source          6700 non-null   object        \n",
      " 20  user_rt_id      6700 non-null   object        \n",
      " 21  user_rt         6700 non-null   object        \n",
      " 22  retweet_id      6700 non-null   object        \n",
      " 23  reply_to        6700 non-null   object        \n",
      " 24  retweet_date    6700 non-null   object        \n",
      " 25  Label           6700 non-null   int64         \n",
      "dtypes: bool(1), datetime64[ns](1), int64(5), object(19)\n",
      "memory usage: 1.3+ MB\n"
     ]
    }
   ],
   "source": [
    "datanhs.info()"
   ]
  },
  {
   "cell_type": "code",
   "execution_count": 20,
   "metadata": {},
   "outputs": [
    {
     "data": {
      "image/png": "[encoded data removed]",
      "text/plain": [
       "<Figure size 720x648 with 1 Axes>"
      ]
     },
     "metadata": {},
     "output_type": "display_data"
    }
   ],
   "source": [
    "time = pd.DataFrame(datanhs)\n",
    "\n",
    "time.date = pd.to_datetime(time.date)\n",
    "time.plot.line(x='date', y='user_id', figsize=(10,9), linewidth=5, fontsize=10)\n",
    "plt.show()"
   ]
  },
  {
   "cell_type": "code",
   "execution_count": 21,
   "metadata": {
    "scrolled": true
   },
   "outputs": [
    {
     "data": {
      "text/plain": [
       "<matplotlib.axes._subplots.AxesSubplot at 0x1ab70350388>"
      ]
     },
     "execution_count": 21,
     "metadata": {},
     "output_type": "execute_result"
    },
    {
     "data": {
      "image/png": "[encoded data removed]",
      "text/plain": [
       "<Figure size 1080x288 with 1 Axes>"
      ]
     },
     "metadata": {},
     "output_type": "display_data"
    }
   ],
   "source": [
    "datanhs.plot(x=\"time\", y='user_id', figsize=(15,4))"
   ]
  },
  {
   "cell_type": "markdown",
   "metadata": {},
   "source": []
  }
 ],
 "metadata": {
  "kernelspec": {
   "display_name": "Python 3",
   "language": "python",
   "name": "python3"
  },
  "language_info": {
   "codemirror_mode": {
    "name": "ipython",
    "version": 3
   },
   "file_extension": ".py",
   "mimetype": "text/x-python",
   "name": "python",
   "nbconvert_exporter": "python",
   "pygments_lexer": "ipython3",
   "version": "3.7.6"
  }
 },
 "nbformat": 4,
 "nbformat_minor": 4
}
